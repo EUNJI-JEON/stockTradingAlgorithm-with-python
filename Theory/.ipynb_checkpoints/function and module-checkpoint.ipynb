{
 "cells": [
  {
   "cell_type": "code",
   "execution_count": 1,
   "metadata": {},
   "outputs": [],
   "source": [
    "def myaverage(a,b):\n",
    "    c=a+b/2\n",
    "    return c\n"
   ]
  },
  {
   "cell_type": "code",
   "execution_count": 2,
   "metadata": {},
   "outputs": [],
   "source": [
    "def get_max_min(data_list):\n",
    "    max_value=max(data_list)\n",
    "    min_value=min(data_list)\n",
    "    return(max_value,min_value)"
   ]
  },
  {
   "cell_type": "code",
   "execution_count": 13,
   "metadata": {},
   "outputs": [],
   "source": [
    "def get_txt_list(path):\n",
    "    org_list = dir(path)\n",
    "    ret_list = []\n",
    "    for i in org_list:\n",
    "        if i.endwith('txt'):\n",
    "            ret_list.append(i)\n",
    "    return ret_list\n"
   ]
  },
  {
   "cell_type": "code",
   "execution_count": null,
   "metadata": {},
   "outputs": [],
   "source": [
    "def get_BMI(weight,height):\n",
    "    height = height * 0.01\n",
    "    bmi = weight/(height*height)\n",
    "    \n",
    "    if bmi<18.5:\n",
    "        return \"마른체형\"\n",
    "    elif 18.5<=bmi<25.0:\n",
    "        return \"표준\"\n",
    "    elif 25.0<=bmi<30.0:\n",
    "        return \"비만\"\n",
    "    else:\n",
    "        return \"고도비만\"\n",
    "    "
   ]
  },
  {
   "cell_type": "code",
   "execution_count": 6,
   "metadata": {},
   "outputs": [],
   "source": [
    "def get_triangle_area(width,height):\n",
    "    area=width*height/2\n",
    "    return area"
   ]
  },
  {
   "cell_type": "code",
   "execution_count": null,
   "metadata": {},
   "outputs": [],
   "source": [
    "def add_start_to_end(start,end):\n",
    "    return sum(range(start,end+1))"
   ]
  },
  {
   "cell_type": "code",
   "execution_count": null,
   "metadata": {},
   "outputs": [],
   "source": [
    "def first3(a):\n",
    "    for i in a:\n",
    "        listA=[]\n",
    "        b=i[0:3]\n",
    "        listA.append(b)\n",
    "        return listA"
   ]
  },
  {
   "cell_type": "code",
   "execution_count": null,
   "metadata": {},
   "outputs": [],
   "source": []
  }
 ],
 "metadata": {
  "kernelspec": {
   "display_name": "Python 3",
   "language": "python",
   "name": "python3"
  },
  "language_info": {
   "codemirror_mode": {
    "name": "ipython",
    "version": 3
   },
   "file_extension": ".py",
   "mimetype": "text/x-python",
   "name": "python",
   "nbconvert_exporter": "python",
   "pygments_lexer": "ipython3",
   "version": "3.7.1"
  }
 },
 "nbformat": 4,
 "nbformat_minor": 2
}
